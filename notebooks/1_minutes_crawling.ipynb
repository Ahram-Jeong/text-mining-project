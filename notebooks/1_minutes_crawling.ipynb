{
 "cells": [
  {
   "cell_type": "code",
   "id": "initial_id",
   "metadata": {
    "ExecuteTime": {
     "end_time": "2024-06-22T09:22:11.046899Z",
     "start_time": "2024-06-22T09:22:08.987249Z"
    }
   },
   "source": [
    "from bs4 import BeautifulSoup as bs\n",
    "import pandas as pd\n",
    "import requests as req\n",
    "from tqdm import tqdm\n",
    "import os\n",
    "import re\n",
    "from tika import parser\n",
    "import shutil\n",
    "from os import listdir\n",
    "from os.path import isfile, join"
   ],
   "outputs": [],
   "execution_count": 1
  },
  {
   "cell_type": "code",
   "id": "6de4175cc05fc904",
   "metadata": {
    "ExecuteTime": {
     "end_time": "2024-06-22T09:22:11.062411Z",
     "start_time": "2024-06-22T09:22:11.051613Z"
    }
   },
   "source": [
    "# 제목\n",
    "title_list = []\n",
    "# 첨부 파일\n",
    "f_name_list = [] # 파일명\n",
    "link_list = [] # url\n",
    "cnt = 0 # filename 카운트\n",
    "# text 변환\n",
    "txt_list = []"
   ],
   "outputs": [],
   "execution_count": 2
  },
  {
   "metadata": {},
   "cell_type": "code",
   "outputs": [],
   "execution_count": null,
   "source": [
    "# HTML 컨텐츠 수집\n",
    "for i in tqdm(range(1, 54)) :\n",
    "    min_url = f\"https://www.bok.or.kr/portal/bbs/B0000245/list.do?menuNo=200761&pageIndex={i}\"\n",
    "    res = req.get(min_url)\n",
    "    soup = bs(res.content, \"html.parser\")\n",
    "\n",
    "    links = soup.select(\"div.col.m2.s2.x3.fileLink a\")\n",
    "    titles = soup.select(\"span.titlesub\")\n",
    "\n",
    "    for i in range(len(titles)) :\n",
    "        title_list.append(titles[i].text)\n",
    "\n",
    "    for i in links :\n",
    "        filename = i.get_text().strip()\n",
    "\n",
    "        # 확장자가 pdf인 파일만 수집\n",
    "        if filename[-3:] == \"pdf\" :\n",
    "            # 파일명\n",
    "            filename = f\"{title_list[cnt]}.pdf\"\n",
    "            f_name_list.append(filename)\n",
    "            cnt += 1\n",
    "\n",
    "            # 파일의 주소 값\n",
    "            file_addr = \"http://bok.or.kr\" + i[\"href\"]\n",
    "            link_list.append(file_addr)\n",
    "\n",
    "print(len(title_list), len(f_name_list), len(link_list))"
   ],
   "id": "aa3caccb0788840b"
  },
  {
   "cell_type": "code",
   "id": "a5b4f205af992feb",
   "metadata": {
    "ExecuteTime": {
     "end_time": "2024-06-22T09:23:27.998349Z",
     "start_time": "2024-06-22T09:23:27.989301Z"
    }
   },
   "source": [
    "# 한국은행 금융통화위원회 의사록 페이지 HTML구조가 바뀌기 전까지로 list 길이 수정\n",
    "title_list = title_list[:300]\n",
    "f_name_list = f_name_list[:300]\n",
    "link_list = link_list[:300]"
   ],
   "outputs": [],
   "execution_count": 4
  },
  {
   "metadata": {},
   "cell_type": "code",
   "outputs": [],
   "execution_count": null,
   "source": [
    "# DataFrame 생성\n",
    "pd.set_option(\"display.max_rows\", None)\n",
    "df = pd.DataFrame({\n",
    "    \"title\" : title_list,\n",
    "    \"file\" : f_name_list,\n",
    "    \"url\" : link_list\n",
    "})\n",
    "df"
   ],
   "id": "107a070ff5e889b7"
  },
  {
   "metadata": {},
   "cell_type": "code",
   "outputs": [],
   "execution_count": null,
   "source": [
    "# 날짜 컬럼 추가\n",
    "df[\"date\"] = df[\"title\"].str.replace(r\"\\s+\", \"\", regex=True).str.extract(r\"\\((\\d{4}\\.\\d{1,2}\\.\\d{1,2})\\.?\\)$\")\n",
    "df[\"date\"] = pd.to_datetime(df[\"date\"], format=\"%Y.%m.%d\")\n",
    "df = df.reindex(columns=[\"date\", \"title\", \"file\", \"url\"])\n",
    "df"
   ],
   "id": "206ff3537f32b98d"
  },
  {
   "cell_type": "code",
   "id": "65695b8d-5ead-4e83-ad99-b4017e53ac95",
   "metadata": {
    "ExecuteTime": {
     "end_time": "2024-06-22T09:23:34.303267Z",
     "start_time": "2024-06-22T09:23:34.303267Z"
    }
   },
   "source": [
    "print(df[\"date\"].count())"
   ],
   "outputs": [],
   "execution_count": null
  },
  {
   "cell_type": "code",
   "id": "99c620268dcf5035",
   "metadata": {
    "ExecuteTime": {
     "end_time": "2024-06-22T09:23:34.303267Z",
     "start_time": "2024-06-22T09:23:34.303267Z"
    }
   },
   "source": "df.to_csv(\"../data/minutes_info.csv\", encoding = \"utf8\")",
   "outputs": [],
   "execution_count": null
  },
  {
   "cell_type": "markdown",
   "id": "63114a2a-04e5-4f3a-91ea-88f14da1b504",
   "metadata": {},
   "source": [
    "## PDF 의사록 다운로드"
   ]
  },
  {
   "cell_type": "code",
   "id": "241a2a2568a258da",
   "metadata": {
    "ExecuteTime": {
     "end_time": "2024-06-22T09:23:34.303267Z",
     "start_time": "2024-06-22T09:23:34.303267Z"
    }
   },
   "source": [
    "# 첨부파일 다운로드\n",
    "for i in tqdm(range(len(link_list))) :\n",
    "    try :\n",
    "        res = req.get(link_list[i])\n",
    "        # dir 생성 or 확인\n",
    "        if not os.path.isdir(\"../data/pdf/\") :\n",
    "            os.mkdir(\"../data/pdf/\")\n",
    "        if res.status_code == 200 :\n",
    "            file_path = os.path.join(\"../data/pdf/\", f_name_list[i])\n",
    "\n",
    "            # 파일 열기, 쓰기\n",
    "            open(file_path, \"wb\").write(res.content)\n",
    "    except Exception as e :\n",
    "        print(\"Error! : \", e)\n",
    "        continue\n",
    "print(\"Complete😇\")"
   ],
   "outputs": [],
   "execution_count": null
  },
  {
   "cell_type": "markdown",
   "id": "df5388bc-4b64-417f-9d00-f0d22c199a60",
   "metadata": {},
   "source": [
    "## pdf 👉 text"
   ]
  },
  {
   "cell_type": "code",
   "id": "b9dd3e01-ca80-48bf-a9f8-3acb2abca4cd",
   "metadata": {
    "ExecuteTime": {
     "end_time": "2024-06-22T09:23:34.303267Z",
     "start_time": "2024-06-22T09:23:34.303267Z"
    }
   },
   "source": [
    "# 폴더 내 pdf파일을 txt 파일로 변경\n",
    "def pdf2txt(source_folder=\"../data/pdf/\", output_folder=\"../data/text/\") :\n",
    "    if not os.path.isdir(\"../data/text/\") :\n",
    "            os.mkdir(\"../data/text/\")\n",
    "    # 지정 폴더 내 파일 목록 조회 (파일만)\n",
    "    pdf_files = [f for f in listdir(source_folder) if isfile(join(source_folder, f))]\n",
    "    \n",
    "    try :\n",
    "        for pdf in tqdm(pdf_files) :\n",
    "            pdf_filepath = source_folder + pdf\n",
    "            pdf_tmp_filepath = output_folder + \"tmp.pdf\"\n",
    "\n",
    "            # pdf 파일을 text로 변환\n",
    "            shutil.copyfile(pdf_filepath, pdf_tmp_filepath)\n",
    "            parsedPDF = parser.from_file(pdf_tmp_filepath)[\"content\"]\n",
    "\n",
    "            #enter 삭제\n",
    "            parsedPDF = re.sub(\"\\n\", \"\", parser.from_file(pdf_tmp_filepath)[\"content\"])\n",
    "\n",
    "            output_filepath = (output_folder + pdf).replace(\".pdf\", \".txt\")\n",
    "            \n",
    "            with open(output_filepath, \"w\", -1,\"utf-8\") as f:\n",
    "                print(output_filepath)\n",
    "                f.write(parsedPDF)\n",
    "                f.close()\n",
    "    except Exception as e:\n",
    "        print(\"오류\", e)\n",
    "        pass"
   ],
   "outputs": [],
   "execution_count": null
  },
  {
   "cell_type": "code",
   "id": "97a041ce-a586-40a5-add5-79d5fab62c36",
   "metadata": {
    "ExecuteTime": {
     "end_time": "2024-06-22T09:23:34.319484Z",
     "start_time": "2024-06-22T09:23:34.319484Z"
    }
   },
   "source": "pdf2txt(source_folder=\"../data/pdf/\", output_folder=\"../data/text/\")",
   "outputs": [],
   "execution_count": null
  },
  {
   "cell_type": "markdown",
   "id": "0c66458c-5e4f-4aa4-acb6-8a48173774eb",
   "metadata": {},
   "source": [
    "## 의사록 섹션 분리"
   ]
  },
  {
   "cell_type": "code",
   "id": "42080f40-0dd2-45c4-97ab-bdb669fa8f61",
   "metadata": {},
   "source": [
    "def tidy_sentences(section) :\n",
    "    sentence_enders = re.compile(r\"((?<=[함음됨임봄짐움])(\\s*\\n|\\.|;)|(?<=다)\\.)\\s*\")\n",
    "    splits = list((m.start(), m.end()) for m in re.finditer(sentence_enders, section))\n",
    "    starts = [0] + [i[1] for i in splits]\n",
    "    ends = [i[0] for i in splits]\n",
    "    sentences = [section[start:end] for start, end in zip(starts[:-1], ends)]\n",
    "    for i, s in enumerate(sentences):\n",
    "        sentences[i] = (s.replace(\"\\n\", \" \").replace(\" \", \" \")) + \".\"\n",
    "    text = \"\\n\".join(sentences) if len(sentences) > 0 else \"\"\n",
    "    \n",
    "    return sentences, text"
   ],
   "outputs": [],
   "execution_count": null
  },
  {
   "cell_type": "code",
   "id": "039db3fa-a9dc-44db-9366-e4452e02ed3c",
   "metadata": {},
   "source": [
    "def preprocess_minutes(minutes) :\n",
    "    pos = re.search(\"(.?국내외\\s?경제\\s?동향.?과 관련하여,?|\\(가\\).+경제전망.*|\\(가\\) 국내외 경제동향 및 평가)\\n?\\s*일부 위원은\", minutes, re.MULTILINE)\n",
    "    s1 = pos.start() if pos else -1\n",
    "    pos = re.search(\"(.?외환.?국제금융\\s?동향.?과 관련하여.*|\\(나\\) 외환.국제금융\\s?(및 금융시장)?\\s?동향)\\n?\\s*(일부 위원은|대부분의 위원들은)\", minutes,re.MULTILINE)\n",
    "    s2 = pos.start() if pos else -1\n",
    "    pos = re.search(\"(.?금융시장\\s?동향.?과 관련하여,?|\\(다\\) 금융시장\\s?동향)\\n?\\s*일부 위원은\", minutes, re.MULTILINE)\n",
    "    s3 = pos.start() if pos else -1\n",
    "    pos = re.search(\"((\\((다|라)\\) )?.?통화정책\\s?방향.?에 관한 토론,?|이상과 같은 의견\\s?교환을 바탕으로.*통화정책\\s?방향.*에.*토론.*)\\n?\", minutes,re.MULTILINE)\n",
    "    s4 = pos.start() if pos else -1\n",
    "    pos = re.search(\"(\\(4\\) 정부측 열석자 발언.*)\\n?\", minutes, re.MULTILINE)\n",
    "    s5 = pos.start() if pos else -1\n",
    "    pos = re.search(\"(\\(.*\\) 한국은행 기준금리 결정에 관한 위원별 의견\\s?개진|이상과 같은 토론에 이어 .* 관한 위원별 의견개진이 있었음.*)\\n?\", minutes,re.MULTILINE)\n",
    "    s6 = pos.start() if pos else -1\n",
    "    positer = re.finditer(\"(\\(\\s?.*\\s?\\) ()(심의결과|토의결론))\\n?\", minutes, re.MULTILINE)\n",
    "    s7 = [pos.start() for pos in positer if pos.start() > s6]\n",
    "    s7 = s7[0] if s7 else -1\n",
    "\n",
    "    # 국내외 경제동향\n",
    "    bos = s1\n",
    "    eos = s2\n",
    "    section = minutes[bos:eos] if bos >= 0 or eos >= 0 else \"\"\n",
    "    pos = re.search(\"(일부|대부분의) 위원들?은\", section, re.MULTILINE)\n",
    "    bos = pos.start() if pos else -1\n",
    "    section = section[bos:] if bos >= 0 else section\n",
    "    section1, section1_txt = tidy_sentences(section)\n",
    "\n",
    "    # 외환․국제금융 동향\n",
    "    bos = s2\n",
    "    eos = s3 if s3 >= 0 else s4\n",
    "    section = minutes[bos:eos] if bos >= 0 or eos >= 0 else \"\"\n",
    "    pos = re.search(\"(일부|대부분의) 위원들?은\", section, re.MULTILINE)\n",
    "    bos = pos.start() if pos else -1\n",
    "    section = section[bos:] if bos >= 0 else section\n",
    "    section2, section2_txt = tidy_sentences(section)\n",
    "\n",
    "    # 금융시장 동향\n",
    "    bos = s3\n",
    "    eos = s4\n",
    "    section = minutes[bos:eos] if bos >= 0 or eos >= 0 else \"\"\n",
    "    pos = re.search(\"(일부|대부분의) 위원들?은\", section, re.MULTILINE)\n",
    "    bos = pos.start() if pos else -1\n",
    "    section = section[bos:] if bos >= 0 else section\n",
    "    section3, section3_txt = tidy_sentences(section)\n",
    "\n",
    "    # 통화정책방향\n",
    "    bos = s4\n",
    "    eos = s5 if s5 >= 0 else s6 if s6 >= 0 else s7\n",
    "    section = minutes[bos:eos] if bos >= 0 or eos >= 0 else \"\"\n",
    "    pos = re.search(\"(일부|대부분의) 위원들?은\", section, re.MULTILINE)\n",
    "    bos = pos.start() if pos else -1\n",
    "    section = section[bos:] if bos >= 0 else section\n",
    "    section4, section4_txt = tidy_sentences(section)\n",
    "\n",
    "    # 위원별 의견 개진\n",
    "    bos = s6\n",
    "    eos = s7\n",
    "    section = minutes[bos:eos] if bos >= 0 or eos >= 0 else \"\"\n",
    "    pos = re.search(\"(일부|대부분의) 위원들?은\", section, re.MULTILINE)\n",
    "    bos = pos.start() if pos else -1\n",
    "    section = section[bos:] if bos >= 0 else section\n",
    "    section5, section5_txt = tidy_sentences(section)\n",
    "\n",
    "    # 정부측 열석자 발언\n",
    "    bos = s5\n",
    "    eos = s6\n",
    "    section = minutes[bos:eos] if bos >= 0 or eos >= 0 else \"\"\n",
    "    pos = re.search(\"정부측 열석자 발언\", section, re.MULTILINE)\n",
    "    bos = pos.end() + 1 if pos else -1\n",
    "    section = section[bos:] if bos >= 0 else section\n",
    "    section6, section6_txt = tidy_sentences(section)\n",
    "\n",
    "    sections = [\"Economic Situation\", \"Foreign Currency\", \"Financial Markets\",\n",
    "                \"Monetary Policy\", \"Participants’ Views\", \"Government’s View\"]\n",
    "    section_texts = (section1, section2, section3, section4, section5, section6)\n",
    "\n",
    "    return sections, section_texts"
   ],
   "outputs": [],
   "execution_count": null
  },
  {
   "cell_type": "code",
   "id": "8410c9b1-6e15-40de-be51-10a54a611360",
   "metadata": {},
   "source": [
    "def preprocessing(source_folder, output_file) :\n",
    "    # 지정 폴더 내 파일 목록 조회 (파일만)\n",
    "    txt_files = [f for f in listdir(source_folder) if isfile(join(source_folder, f))]\n",
    "    txt_files.sort()\n",
    "    df = pd.DataFrame(columns=[\"date\", \"minutes\"])\n",
    "    df[\"Economic Situation\"] = \"\"\n",
    "    df[\"Foreign Currency\"] = \"\"\n",
    "    df[\"Financial Markets\"] = \"\"\n",
    "    df[\"Monetary Policy\"] = \"\"\n",
    "    df[\"Participant Views\"] = \"\"\n",
    "    df[\"Government View\"] = \"\"\n",
    "\n",
    "    df[\"Economic Situation count\"] = \"\"\n",
    "    df[\"Foreign Currency count\"] = \"\"\n",
    "    df[\"Financial Markets count\"] = \"\"\n",
    "    df[\"Monetary Policy count\"] = \"\"\n",
    "    df[\"Participant Views count\"] = \"\"\n",
    "    df[\"Government View count\"] = \"\"\n",
    "\n",
    "    for txt_file in txt_files :\n",
    "        try :\n",
    "            with open(source_folder + txt_file, \"r\", encoding = \"utf-8\") as f :\n",
    "                txt = f.read()\n",
    "                sections, section_texts = preprocess_minutes(txt)\n",
    "\n",
    "                df.loc[len(df)] = [txt_file.split(\"_\")[0],\n",
    "                                   txt,\n",
    "                                   \"@@@\".join(section_texts[0]),\n",
    "                                   \"@@@\".join(section_texts[1]),\n",
    "                                   \"@@@\".join(section_texts[2]),\n",
    "                                   \"@@@\".join(section_texts[3]),\n",
    "                                   \"@@@\".join(section_texts[4]),\n",
    "                                   \"@@@\".join(section_texts[5]),\n",
    "                                   len(section_texts[0]),\n",
    "                                   len(section_texts[1]),\n",
    "                                   len(section_texts[2]),\n",
    "                                   len(section_texts[3]),\n",
    "                                   len(section_texts[4]),\n",
    "                                   len(section_texts[5]),]\n",
    "        except Exception as e:\n",
    "            print(\"오류\", e)\n",
    "            pass\n",
    "\n",
    "    df.to_csv(output_file, index = False, encoding = \"utf-8\", errors = \"ignore\")\n",
    "    print(\"데이터프레임 구조 \", df.shape)\n",
    "    \n",
    "    return df\n",
    "\n",
    "result = preprocessing(source_folder=\"../data/text/\", output_file=\"../data/minutes_contents_df.csv\")"
   ],
   "outputs": [],
   "execution_count": null
  },
  {
   "cell_type": "code",
   "id": "3c73bbe5-5715-435b-952e-4afaaea9d317",
   "metadata": {},
   "source": [
    "result.info()"
   ],
   "outputs": [],
   "execution_count": null
  },
  {
   "cell_type": "code",
   "id": "6d444abc-1bb0-456b-9a76-cad7858d6333",
   "metadata": {},
   "source": [
    "# 컨텐츠 DF에 날짜 컬럼 추가\n",
    "result[\"num_date\"] = result[\"date\"].str.replace(r\"\\s+\", \"\", regex=True).str.replace(r\".txt\", \"\").str.extract(r\"\\((\\d{4}\\.\\d{1,2}\\.\\d{1,2})\\.?\\)$\")\n",
    "result[\"num_date\"] = pd.to_datetime(result[\"num_date\"], format=\"%Y.%m.%d\")\n",
    "# section 2, section 3만 분리\n",
    "min_result = result.reindex(columns=[\"num_date\", \"date\", \"Foreign Currency\", \"Financial Markets\"])\n",
    "min_result"
   ],
   "outputs": [],
   "execution_count": null
  },
  {
   "cell_type": "markdown",
   "id": "437eee72-8aba-4255-8ed0-757448d07b52",
   "metadata": {},
   "source": [
    "## DataFrame 병합"
   ]
  },
  {
   "cell_type": "code",
   "id": "e81b040f-2245-46ec-bcc0-16afd3289eb6",
   "metadata": {},
   "source": [
    "result_df = pd.merge(min_result[[\"num_date\", \"Foreign Currency\", \"Financial Markets\"]], df[[\"date\", \"title\"]], left_on = \"num_date\", right_on = \"date\", how = \"inner\")\n",
    "result_df = result_df.reindex(columns=[\"date\", \"title\", \"Foreign Currency\", \"Financial Markets\"])\n",
    "result_df[\"contents\"] = result_df.iloc[:, 2:].apply(lambda x: \"@@@\".join(x), axis=1)\n",
    "result_df[\"contents\"] = result_df[\"contents\"].apply(lambda x: \"\" if x == \"@@@\" else x)\n",
    "result_df"
   ],
   "outputs": [],
   "execution_count": null
  },
  {
   "cell_type": "code",
   "id": "db40c961-f244-4e70-99b7-291b58cc09d1",
   "metadata": {},
   "source": [
    "final_df = result_df.reindex(columns = [\"date\", \"title\", \"contents\"])\n",
    "# date 타입 출력 포맷 변환\n",
    "final_df[\"date\"] = pd.to_datetime(final_df[\"date\"]).dt.strftime(\"%Y.%m.%d\")\n",
    "final_df"
   ],
   "outputs": [],
   "execution_count": null
  },
  {
   "cell_type": "code",
   "id": "f80dcb54-62a7-46f7-8ce3-e59b0dd25569",
   "metadata": {},
   "source": "final_df.to_csv(\"../data/minutes_separation_secion.csv\", index = False)",
   "outputs": [],
   "execution_count": null
  }
 ],
 "metadata": {
  "kernelspec": {
   "display_name": "Python 3 (ipykernel)",
   "language": "python",
   "name": "python3"
  },
  "language_info": {
   "codemirror_mode": {
    "name": "ipython",
    "version": 3
   },
   "file_extension": ".py",
   "mimetype": "text/x-python",
   "name": "python",
   "nbconvert_exporter": "python",
   "pygments_lexer": "ipython3",
   "version": "3.11.7"
  }
 },
 "nbformat": 4,
 "nbformat_minor": 5
}
